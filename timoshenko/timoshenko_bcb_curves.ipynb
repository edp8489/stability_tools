{
 "cells": [
  {
   "cell_type": "code",
   "execution_count": 6,
   "metadata": {},
   "outputs": [],
   "source": [
    "from bokeh.plotting import figure\n",
    "from bokeh.io import output_notebook, output_file, show\n",
    "from bokeh.models import Range1d\n",
    "from timoshenko_bending_buckling import *\n",
    "import numpy as np\n",
    "from scipy.interpolate import CubicSpline\n",
    "\n",
    "#output_notebook()\n",
    "output_file(\"timoshenko_bcb.html\")\n",
    "\n",
    "T10RGB = {\n",
    "    \"blue\": \"rgba(87, 120, 164, 1)\",\n",
    "    \"orange\": \"rgba(228, 148, 68, 1)\",\n",
    "    \"red\": \"rgba(209, 97, 93, 1)\",\n",
    "    \"teal\": \"rgba(133, 182, 178, 1)\",\n",
    "    \"green\": \"rgba(106, 159, 88, 1)\",\n",
    "    \"yellow\": \"rgba(231, 202, 96, 1)\",\n",
    "    \"purple\": \"rgba(168, 124, 159, 1)\",\n",
    "    \"pink\": \"rgba(241, 162, 169, 1)\",\n",
    "    \"brown\": \"rgba(150, 118, 98, 1)\",\n",
    "    \"grey\": \"rgba(184, 176, 172, 1)\"\n",
    "}\n",
    "\n",
    "T10_keys = [*T10RGB.keys()]\n",
    "\n",
    "def solveForK(a_b,alpha):\n",
    "    detC = cMatrix(a_b,1, alpha).det()\n",
    "    # use sympy to solve system of equations det(C) = 0, returning [3x1] vector of solutions\n",
    "    k_vals = sym.solve(detC)\n",
    "    # we only care about the minimum solution (that's > 0)\n",
    "    k_min = minGreaterZero(k_vals)\n",
    "    return k_min"
   ]
  },
  {
   "cell_type": "code",
   "execution_count": 2,
   "metadata": {},
   "outputs": [],
   "source": [
    "a_b = np.linspace(0.1,5,30, dtype=np.float32)\n",
    "alpha = np.linspace(0,2,10, dtype=np.float32)"
   ]
  },
  {
   "cell_type": "code",
   "execution_count": 3,
   "metadata": {},
   "outputs": [
    {
     "name": "stdout",
     "output_type": "stream",
     "text": [
      "solving k vals for alpha = 0.00...\n",
      "solving k vals for alpha = 0.22...\n",
      "solving k vals for alpha = 0.44...\n",
      "solving k vals for alpha = 0.67...\n",
      "solving k vals for alpha = 0.89...\n",
      "solving k vals for alpha = 1.11...\n",
      "solving k vals for alpha = 1.33...\n",
      "solving k vals for alpha = 1.56...\n",
      "solving k vals for alpha = 1.78...\n",
      "solving k vals for alpha = 2.00...\n"
     ]
    }
   ],
   "source": [
    "# generate array of buckling coefficients for every alpha\n",
    "k_dict = {}\n",
    "for ind, alpha_i in enumerate(alpha):\n",
    "    print(\"solving k vals for alpha = {:.2f}...\".format(alpha_i))\n",
    "    k_vec_i = np.vectorize(lambda x: solveForK(x, alpha_i))(a_b)\n",
    "    key_i = \"a{:.3f}\".format(alpha_i)\n",
    "    legend_i = \"alpha = {:.2f}\".format(alpha_i)\n",
    "    k_dict[key_i]={\n",
    "        \"k_vec\":k_vec_i,\n",
    "        \"label\":legend_i\n",
    "    }\n",
    "    "
   ]
  },
  {
   "cell_type": "code",
   "execution_count": 7,
   "metadata": {},
   "outputs": [],
   "source": [
    "#fig1.line(x=a_b,y=k_vec)\n",
    "#fig1.multi_line(np.array(multi_x),np.array(multi_y))#,legend_label=legend_labels)\n",
    "# generate figure\n",
    "TOOLTIPS = [\n",
    "    (\"(x,y)\", \"($x, $y)\")\n",
    "]\n",
    "\n",
    "fig1 = figure(title=\"Timoshenko Bending-compression buckling curves\",\n",
    "              x_axis_label=\"a/b ratio\",\n",
    "              y_axis_label=\"Buckling coefficient, k\",\n",
    "              width=800,\n",
    "              tools=\"pan,wheel_zoom,box_zoom,reset,save,hover\",\n",
    "              tooltips=TOOLTIPS,\n",
    "              toolbar_location = \"right\")\n",
    "\n",
    "\n",
    "# loop through entries in K dict and add lines to figure\n",
    "for ind, key in enumerate(k_dict):\n",
    "    # smooth k curve using cublic spline\n",
    "    k_spl = CubicSpline(a_b,k_dict[key][\"k_vec\"].astype(np.float32))\n",
    "    fig1.line(x = a_b,\n",
    "              y = k_spl(a_b),\n",
    "              legend_label = k_dict[key][\"label\"],\n",
    "              line_color = T10RGB[T10_keys[ind % 10]])\n",
    "\n",
    "# set other figure properties\n",
    "fig1.y_range = Range1d(0,50)\n",
    "fig1.add_layout(fig1.legend[0], 'right')\n",
    "fig1.legend.click_policy=\"mute\"\n",
    "show(fig1)"
   ]
  },
  {
   "cell_type": "code",
   "execution_count": null,
   "metadata": {},
   "outputs": [],
   "source": []
  }
 ],
 "metadata": {
  "kernelspec": {
   "display_name": "base",
   "language": "python",
   "name": "python3"
  },
  "language_info": {
   "codemirror_mode": {
    "name": "ipython",
    "version": 3
   },
   "file_extension": ".py",
   "mimetype": "text/x-python",
   "name": "python",
   "nbconvert_exporter": "python",
   "pygments_lexer": "ipython3",
   "version": "3.10.12"
  },
  "orig_nbformat": 4
 },
 "nbformat": 4,
 "nbformat_minor": 2
}
